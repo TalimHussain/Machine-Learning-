{
 "cells": [
  {
   "cell_type": "markdown",
   "id": "24628bb4",
   "metadata": {},
   "source": [
    "# What is Machine Learning? \n"
   ]
  },
  {
   "cell_type": "markdown",
   "id": "618d961a",
   "metadata": {},
   "source": [
    "Machine learning is an application of AI that provides systems the ability to learn on their own and improve from experiences without being programmed externally. If your computer had machine learning, it might be able to play difficult parts of a game or solve a complicated mathematical equation for you.  \n",
    "\n"
   ]
  },
  {
   "cell_type": "markdown",
   "id": "c275158e",
   "metadata": {},
   "source": [
    "# How Machine Learning Works\n"
   ]
  },
  {
   "cell_type": "markdown",
   "id": "eca66e5a",
   "metadata": {},
   "source": [
    "First, the system will analyze the input data. Next, it tries to find patterns, like shapes, size, and color. Based on these patterns, the system will try to predict the different types of fruit and segregate them. Finally, it keeps track of all the decisions it made during the process to ensure it is learning. The next time you ask the same system to predict and segregate the different types of fruits, it won't have to go through the entire process again. That’s how machine learning works"
   ]
  },
  {
   "cell_type": "markdown",
   "id": "a8d82a17",
   "metadata": {},
   "source": [
    "# Machine Learning Basics - Types of Machine Learning \n"
   ]
  },
  {
   "cell_type": "markdown",
   "id": "5ec66fb1",
   "metadata": {},
   "source": [
    "1= Supervised machine learning:  You supervise the machine while training it to                    work on its own. This requires labeled training data \n",
    "\n",
    "2= Unsupervised learning:\n",
    "     There is training data, but it won’t be labeled\n",
    "\n",
    "3=  Reinforcement learning: The system learns on its own"
   ]
  },
  {
   "cell_type": "markdown",
   "id": "dcbe98a6",
   "metadata": {},
   "source": [
    "# Supervised Learning \n"
   ]
  },
  {
   "cell_type": "markdown",
   "id": "825bb822",
   "metadata": {},
   "source": [
    "To understand how supervised learning works, look at the example below, where you have to train a model or system to recognize an apple. \n",
    "\n",
    "supervised.\n",
    "\n",
    "1)First, you have to provide a data set that contains pictures of a kind of fruit, e.g., apples. \n",
    "\n",
    "ii)Then, provide another data set that lets the model know that these are pictures of apples. This completes the training phase. \n",
    "\n",
    "iii)Next, provide a new set of data that only contains pictures of apples. At this point, the system can recognize what the fruit it is and will remember it.\n",
    "\n",
    " "
   ]
  },
  {
   "cell_type": "markdown",
   "id": "2b296ce1",
   "metadata": {},
   "source": [
    "# Unsupervised Learning\n"
   ]
  },
  {
   "cell_type": "markdown",
   "id": "9a1cfca2",
   "metadata": {},
   "source": [
    " You feed this data to the model, and the model analyzes it to recognize any patterns. In the end, the machine categorizes the photos into three types, as shown in the image, based on their similarities. Flipkart uses this model to find and recommend products that are well suited for you. \n",
    "\n"
   ]
  },
  {
   "cell_type": "markdown",
   "id": "096ee9ae",
   "metadata": {},
   "source": [
    "# Reinforcement Learning \n"
   ]
  },
  {
   "cell_type": "markdown",
   "id": "7c937a2f",
   "metadata": {},
   "source": [
    "That's how reinforcement learning works; the system learns from its mistakes and experiences. This model is used in games like Prince of Persia, Assassin’s Creed, and FIFA, wherein the level of difficulty increases as you get better with the games. \n",
    "\n"
   ]
  },
  {
   "cell_type": "markdown",
   "id": "e00a3efa",
   "metadata": {},
   "source": [
    "# Comparison Between Supervised and Unsupervised Learning\n"
   ]
  },
  {
   "cell_type": "markdown",
   "id": "d3932081",
   "metadata": {},
   "source": [
    "First, the data used in supervised learning is labeled. In the examples shown above, you provide the system with a photo of an apple and let the system know that this is an apple. That is called labeled data. The system learns from the labeled data and makes future predictions. On the other hand, unsupervised learning does not require any labeled data because its job is to look for patterns in the input data and organize it.\n",
    "\n",
    "\n",
    "Second, you get feedback in the case of supervised learning. That is, once you receive the output, the system remembers it and uses it for the next operation. That does not happen with unsupervised learning.\n",
    "\n",
    "\n",
    "\n",
    "Lastly, supervised learning is mostly used to predict data, whereas unsupervised learning is used to find hidden patterns or structures in data. \n",
    "\n",
    " \n",
    "\n",
    "\n"
   ]
  },
  {
   "cell_type": "markdown",
   "id": "8827d510",
   "metadata": {},
   "source": [
    "# How do you Choose the Right Machine Learning Solution to Use?\n"
   ]
  },
  {
   "cell_type": "markdown",
   "id": "002a61a9",
   "metadata": {},
   "source": [
    "1=Imagine that you’d like to predict the future stock market prices. If you are new to machine learning, you would have trouble figuring out the right solution. But with time and practice, you will begin to understand that for a problem statement like this, solution-based supervised learning will work the best for obvious reasons.\n",
    "\n",
    "2=The size, quality, and nature of the data are also essential factors. If the data is cluttered, you will choose unsupervised. If the data set is extensive and categorical, choose supervised learning solutions.\n",
    "\n",
    "\n",
    "3=Finally, you should choose a solution based on the complexity of the algorithm. As for the problem statement where you predict stock market prices, using reinforcement learning can be a solution, although that would be difficult and time-consuming, unlike supervised learning.\n",
    "\n"
   ]
  },
  {
   "cell_type": "markdown",
   "id": "8d4cfa8a",
   "metadata": {},
   "source": [
    "# Machine Learning Basics Algorithms \n"
   ]
  },
  {
   "cell_type": "markdown",
   "id": "a14b9038",
   "metadata": {},
   "source": [
    "# 1=Classification \n"
   ]
  },
  {
   "cell_type": "raw",
   "id": "4de0d6a4",
   "metadata": {},
   "source": [
    "The first method is classification, and it falls under supervised learning. Classification is used when the output you are looking for is a “yes” or “no,” or in the form of “a” or “b” or “true” or “false.\n",
    "\n",
    "\n",
    "1 = Decision tree \n",
    "2 = Naïve Bayes\n",
    "3 = Random forest\n",
    "4 = Logistic regression \n",
    "5 = K-nearest neighbor (KNN)\n",
    "\n",
    "\n"
   ]
  },
  {
   "cell_type": "markdown",
   "id": "2c72e9b1",
   "metadata": {},
   "source": [
    "# Regression"
   ]
  },
  {
   "cell_type": "markdown",
   "id": "e2e1934e",
   "metadata": {},
   "source": [
    "This method is used when the predicted data is numerical.  If the shopkeeper wants to predict the price of a product based on its demand, he will choose regression.\n",
    "\n"
   ]
  },
  {
   "cell_type": "markdown",
   "id": "9b4c089e",
   "metadata": {},
   "source": [
    "# ** Most Common Machine Learning Algorithms\n"
   ]
  },
  {
   "cell_type": "raw",
   "id": "721788bc",
   "metadata": {},
   "source": [
    "The four most commonly used ML algorithms include:\n",
    "\n",
    "1=K-nearest neighbor \n",
    "2=Linear regression \n",
    "3=Decision tree \n",
    "4=Naïve Bayes"
   ]
  },
  {
   "cell_type": "markdown",
   "id": "4c1b8a36",
   "metadata": {},
   "source": [
    "# 1=K-nearest neighbor \n"
   ]
  },
  {
   "cell_type": "code",
   "execution_count": null,
   "id": "28a95a8e",
   "metadata": {},
   "outputs": [],
   "source": [
    "> K-Nearest Neighbor\n",
    "\n",
    "\n"
   ]
  }
 ],
 "metadata": {
  "kernelspec": {
   "display_name": "Python 3",
   "language": "python",
   "name": "python3"
  },
  "language_info": {
   "codemirror_mode": {
    "name": "ipython",
    "version": 3
   },
   "file_extension": ".py",
   "mimetype": "text/x-python",
   "name": "python",
   "nbconvert_exporter": "python",
   "pygments_lexer": "ipython3",
   "version": "3.8.8"
  }
 },
 "nbformat": 4,
 "nbformat_minor": 5
}

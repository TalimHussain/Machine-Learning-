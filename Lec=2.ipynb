{
 "cells": [
  {
   "cell_type": "markdown",
   "id": "b7cb9b5a",
   "metadata": {},
   "source": [
    "# What are the Different Types of Machine Learning?\n"
   ]
  },
  {
   "cell_type": "raw",
   "id": "5d072d1b",
   "metadata": {},
   "source": [
    "Machine Learning is complex, which is why it has been divided into two primary areas, supervised learning and unsupervised learning.  Approximately 70 percent of machine learning is supervised learning, while unsupervised learning accounts for anywhere from 10 to 20 percent. The remainder is taken up by reinforcement learning.\n",
    "\n"
   ]
  },
  {
   "cell_type": "markdown",
   "id": "69273430",
   "metadata": {},
   "source": [
    "# 1. Supervised Learning\n"
   ]
  },
  {
   "cell_type": "raw",
   "id": "b32e09c2",
   "metadata": {},
   "source": [
    "In supervised learning, we use known or labeled data for the training data. Since the data is known, the learning is, therefore, supervised, i.e., directed into successful execution. The input data goes through the Machine Learning algorithm and is used to train the model. Once the model is trained based on the known data, you can use unknown data into the model and get a new response.\n",
    "\n",
    "Here is the list of top algorithms currently being used for supervised learning are:\n",
    "\n",
    "1 = Polynomial regression\n",
    "2 = Random forest\n",
    "3 = Linear regression\n",
    "4 = Logistic regression\n",
    "5 = Decision trees\n",
    "6 = K-nearest neighbors\n",
    "Naive Bayes\n"
   ]
  },
  {
   "cell_type": "markdown",
   "id": "c09c8f17",
   "metadata": {},
   "source": [
    "# 2. Unsupervised Learning\n"
   ]
  },
  {
   "cell_type": "raw",
   "id": "2241fe63",
   "metadata": {},
   "source": [
    "# In unsupervised learning, the training data is unknown and unlabeled - meaning that no one has looked at the data before. Without the aspect of known data, the input cannot be guided to the algorithm, which is where the unsupervised term originates from. This data is fed to the Machine Learning algorithm and is used to train the model. The trained model tries to search for a pattern and give the desired response. In this case, it is often like the algorithm is trying to break code like the Enigma machine but without the human mind directly involved but rather a machine.\n",
    "\n",
    "The top 7 algorithms currently being used for unsupervised learning are:\n",
    "\n",
    "1 = Partial least squares.\n",
    "2 = Fuzzy means.\n",
    "3 = Singular value decomposition.\n",
    "4 = K-means clustering.\n",
    "5 = Apriori.\n",
    "6 = Hierarchical clustering.\n",
    "7 = Principal component analysis.\n",
    "\n",
    "\n"
   ]
  },
  {
   "cell_type": "markdown",
   "id": "51dcb876",
   "metadata": {},
   "source": [
    "# 3. Reinforcement Learning\n"
   ]
  },
  {
   "cell_type": "raw",
   "id": "62d82ca1",
   "metadata": {},
   "source": [
    "Like traditional types of data analysis, here, the algorithm discovers data through a process of trial and error and then decides what action results in higher rewards. Three major components make up reinforcement learning: the agent, the environment, and the actions. The agent is the learner or decision-maker, the environment includes everything that the agent interacts with, and the actions are what the agent does.\n",
    "    "
   ]
  },
  {
   "cell_type": "markdown",
   "id": "3eebf141",
   "metadata": {},
   "source": [
    "# Why is Machine Learning Important?\n"
   ]
  },
  {
   "cell_type": "raw",
   "id": "2b22724a",
   "metadata": {},
   "source": [
    "To better understand the uses of Machine Learning, consider some instances where Machine Learning is applied: the self-driving Google car; cyber fraud detection; and, online recommendation engines from Facebook, Netflix, and Amazon. Machines can enable all of these things by filtering useful pieces of information and piecing them together based on patterns to get accurate results.\n",
    "\n"
   ]
  },
  {
   "cell_type": "markdown",
   "id": "837c4a6e",
   "metadata": {},
   "source": [
    "# Main Uses of Machine Learning\n"
   ]
  },
  {
   "cell_type": "raw",
   "id": "8276ac0d",
   "metadata": {},
   "source": [
    "Typical results from machine learning applications usually include web search results, real-time ads on web pages and mobile devices, email spam filtering, network intrusion detection, and pattern and image recognition. All these are the by-products of using machine learning to analyze massive volumes of data.\n",
    "\n",
    "Machine learning provides smart alternatives for large-scale data analysis. Machine learning can produce accurate results and analysis by developing fast and efficient algorithms and data-driven models for real-time data processing.\n",
    "\n",
    "\n",
    "Pro Tip: For more on Big Data and how it’s revolutionizing industries globally, check out our “What is Big Data?” article.\n",
    "\n",
    "\n",
    "\n",
    "According to BusinessWorldIT, the global machine learning market will quadruple from USD 7.3 billion in 2020 to USD 30.6 billion by 2024. If this trend holds, then we will see a greater use of machine learning across a wide spectrum of industries worldwide. Machine learning is here to stay!\n",
    "\n",
    "\n",
    "\n",
    "\n"
   ]
  },
  {
   "cell_type": "markdown",
   "id": "5572c8d7",
   "metadata": {},
   "source": [
    "# Some Machine Learning Algorithms And Processes\n"
   ]
  },
  {
   "cell_type": "raw",
   "id": "f8e8d484",
   "metadata": {},
   "source": [
    "If you’re studying what is Machine Learning, you should familiarize yourself with standard Machine Learning algorithms and processes. These include neural networks, decision trees, random forests, associations, and sequence discovery, gradient boosting and bagging, support vector machines, self-organizing maps, k-means clustering, Bayesian networks, Gaussian mixture models, and more.\n",
    "\n",
    "\n",
    "There are other machine learning tools and processes that leverage various \n",
    "algorithms to get the most value out of big data. These include:\n",
    "\n",
    "\n",
    "Comprehensive data quality and management\n",
    "GUIs for building models and process flows\n",
    "Interactive data exploration and visualization of model results\n",
    "Comparisons of different Machine Learning models to quickly identify the best one\n",
    "Automated ensemble model evaluation to determine the best performers\n",
    "Easy model deployment so you can get repeatable, reliable results quickly\n",
    "An integrated end-to-end platform for the automation of the data-to-decision process\n"
   ]
  },
  {
   "cell_type": "markdown",
   "id": "84e1ce2c",
   "metadata": {},
   "source": [
    "# Prerequisites for Machine Learning (ML)\n"
   ]
  },
  {
   "cell_type": "raw",
   "id": "b9231e9b",
   "metadata": {},
   "source": [
    "For those interested in learning beyond what is Machine Learning, a few requirements should be met to be successful in pursual of this field. These requirements include:\n",
    "\n",
    "1  = Basic knowledge of programming languages such as Python, R, Java, \n",
    "JavaScript, etc\n",
    "\n",
    "2 = Intermediate knowledge of statistics and probability.\n",
    "\n",
    "\n",
    "3 = Basic knowledge of linear algebra. In the linear regression model, a line is drawn through all the data points, and that line is used to compute new values.\n",
    "\n",
    "4 = Understanding of calculus.\n",
    "\n",
    "\n",
    "5 = Knowledge of how to clean and structure raw data to the desired format to reduce the time taken for decision-making."
   ]
  },
  {
   "cell_type": "code",
   "execution_count": null,
   "id": "9de3bd93",
   "metadata": {},
   "outputs": [],
   "source": []
  }
 ],
 "metadata": {
  "kernelspec": {
   "display_name": "Python 3",
   "language": "python",
   "name": "python3"
  },
  "language_info": {
   "codemirror_mode": {
    "name": "ipython",
    "version": 3
   },
   "file_extension": ".py",
   "mimetype": "text/x-python",
   "name": "python",
   "nbconvert_exporter": "python",
   "pygments_lexer": "ipython3",
   "version": "3.8.8"
  }
 },
 "nbformat": 4,
 "nbformat_minor": 5
}
